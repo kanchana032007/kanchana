{
 "cells": [
  {
   "cell_type": "code",
   "execution_count": 2,
   "id": "8c156194-836d-4fc4-be06-693524509245",
   "metadata": {},
   "outputs": [
    {
     "name": "stdout",
     "output_type": "stream",
     "text": [
      "kanchana\n"
     ]
    }
   ],
   "source": [
    "print(\"kanchana\")"
   ]
  },
  {
   "cell_type": "code",
   "execution_count": null,
   "id": "84759e16-1fe2-4ea7-b6b1-a1cf597481f9",
   "metadata": {},
   "outputs": [],
   "source": []
  }
 ],
 "metadata": {
  "kernelspec": {
   "display_name": "Python [conda env:base] *",
   "language": "python",
   "name": "conda-base-py"
  },
  "language_info": {
   "codemirror_mode": {
    "name": "ipython",
    "version": 3
   },
   "file_extension": ".py",
   "mimetype": "text/x-python",
   "name": "python",
   "nbconvert_exporter": "python",
   "pygments_lexer": "ipython3",
   "version": "3.12.7"
  }
 },
 "nbformat": 4,
 "nbformat_minor": 5
}
